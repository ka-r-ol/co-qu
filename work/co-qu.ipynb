{
 "cells": [
  {
   "cell_type": "code",
   "execution_count": 5,
   "id": "98a8a8da",
   "metadata": {},
   "outputs": [],
   "source": [
    "import pandas as pd\n",
    "import matplotlib as plt"
   ]
  },
  {
   "cell_type": "code",
   "execution_count": 9,
   "id": "ecb10aa1",
   "metadata": {},
   "outputs": [
    {
     "name": "stdout",
     "output_type": "stream",
     "text": [
      "BASH=/bin/bash\r\n",
      "BASHOPTS=checkwinsize:cmdhist:complete_fullquote:extquote:force_fignore:globasciiranges:hostcomplete:interactive_comments:progcomp:promptvars:sourcepath\r\n",
      "BASH_ALIASES=()\r\n",
      "BASH_ARGC=()\r\n",
      "BASH_ARGV=()\r\n",
      "BASH_CMDS=()\r\n",
      "BASH_EXECUTION_STRING=set\r\n",
      "BASH_LINENO=()\r\n",
      "BASH_SOURCE=()\r\n",
      "BASH_VERSINFO=([0]=\"5\" [1]=\"0\" [2]=\"17\" [3]=\"1\" [4]=\"release\" [5]=\"x86_64-pc-linux-gnu\")\r\n",
      "BASH_VERSION='5.0.17(1)-release'\r\n",
      "CLICOLOR=1\r\n",
      "CONDA_DIR=/opt/conda\r\n",
      "DEBIAN_FRONTEND=noninteractive\r\n",
      "DIRSTACK=()\r\n",
      "EUID=1000\r\n",
      "GIT_PAGER=cat\r\n",
      "GROUPS=()\r\n",
      "HOME=/home/jovyan\r\n",
      "HOSTNAME=c1df1190b6cd\r\n",
      "HOSTTYPE=x86_64\r\n",
      "IFS=$' \\t\\n'\r\n",
      "JPY_PARENT_PID=8\r\n",
      "LANG=en_US.UTF-8\r\n",
      "LANGUAGE=en_US.UTF-8\r\n",
      "LC_ALL=en_US.UTF-8\r\n",
      "MACHTYPE=x86_64-pc-linux-gnu\r\n",
      "MPLBACKEND=module://matplotlib_inline.backend_inline\r\n",
      "NB_GID=100\r\n",
      "NB_UID=1000\r\n",
      "NB_USER=jovyan\r\n",
      "OPTERR=1\r\n",
      "OPTIND=1\r\n",
      "OSTYPE=linux-gnu\r\n",
      "PAGER=cat\r\n",
      "PATH=/opt/conda/bin:/usr/local/sbin:/usr/local/bin:/usr/sbin:/usr/bin:/sbin:/bin\r\n",
      "PPID=351\r\n",
      "PS4='+ '\r\n",
      "PWD=/home/jovyan/work\r\n",
      "PYDEVD_USE_FRAME_EVAL=NO\r\n",
      "SHELL=/bin/bash\r\n",
      "SHELLOPTS=braceexpand:hashall:interactive-comments\r\n",
      "SHLVL=1\r\n",
      "TERM=xterm-color\r\n",
      "UID=1000\r\n",
      "_=/bin/bash\r\n"
     ]
    }
   ],
   "source": [
    "!set\n"
   ]
  },
  {
   "cell_type": "code",
   "execution_count": null,
   "id": "3e4ceff0",
   "metadata": {},
   "outputs": [],
   "source": []
  }
 ],
 "metadata": {
  "kernelspec": {
   "display_name": "Python 3 (ipykernel)",
   "language": "python",
   "name": "python3"
  },
  "language_info": {
   "codemirror_mode": {
    "name": "ipython",
    "version": 3
   },
   "file_extension": ".py",
   "mimetype": "text/x-python",
   "name": "python",
   "nbconvert_exporter": "python",
   "pygments_lexer": "ipython3",
   "version": "3.9.7"
  }
 },
 "nbformat": 4,
 "nbformat_minor": 5
}
